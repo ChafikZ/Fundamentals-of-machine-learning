{
 "cells": [
  {
   "cell_type": "code",
   "execution_count": 1,
   "metadata": {},
   "outputs": [],
   "source": [
    "# Libraries: Standard ones\n",
    "import pandas as pd\n",
    "import numpy as np\n",
    "import matplotlib.pyplot as plt\n",
    "\n",
    "# Library for boxplots\n",
    "import seaborn as sns\n",
    "\n",
    "# K-means function\n",
    "from sklearn.cluster import KMeans\n",
    "\n",
    "# Functions for silhouette\n",
    "from sklearn.metrics import silhouette_samples, silhouette_score\n",
    "\n",
    "# Function to standardize the data \n",
    "from sklearn.preprocessing import scale\n",
    "\n",
    "# Functions for hierarchical clustering\n",
    "from scipy.cluster.hierarchy import dendrogram, linkage\n",
    "from scipy.cluster.hierarchy import cophenet\n",
    "from scipy.spatial.distance import pdist"
   ]
  },
  {
   "cell_type": "markdown",
   "metadata": {},
   "source": [
    "# Part1: Data presentation"
   ]
  },
  {
   "cell_type": "markdown",
   "metadata": {},
   "source": [
    "## Question 1"
   ]
  },
  {
   "cell_type": "code",
   "execution_count": 2,
   "metadata": {},
   "outputs": [
    {
     "data": {
      "text/html": [
       "<div>\n",
       "<style scoped>\n",
       "    .dataframe tbody tr th:only-of-type {\n",
       "        vertical-align: middle;\n",
       "    }\n",
       "\n",
       "    .dataframe tbody tr th {\n",
       "        vertical-align: top;\n",
       "    }\n",
       "\n",
       "    .dataframe thead th {\n",
       "        text-align: right;\n",
       "    }\n",
       "</style>\n",
       "<table border=\"1\" class=\"dataframe\">\n",
       "  <thead>\n",
       "    <tr style=\"text-align: right;\">\n",
       "      <th></th>\n",
       "      <th>Energy</th>\n",
       "      <th>Protein</th>\n",
       "      <th>Fat</th>\n",
       "      <th>Calcium</th>\n",
       "      <th>Iron</th>\n",
       "    </tr>\n",
       "  </thead>\n",
       "  <tbody>\n",
       "    <tr>\n",
       "      <th>count</th>\n",
       "      <td>27.000000</td>\n",
       "      <td>27.000000</td>\n",
       "      <td>27.000000</td>\n",
       "      <td>27.000000</td>\n",
       "      <td>27.000000</td>\n",
       "    </tr>\n",
       "    <tr>\n",
       "      <th>mean</th>\n",
       "      <td>207.407407</td>\n",
       "      <td>19.000000</td>\n",
       "      <td>13.481481</td>\n",
       "      <td>43.962963</td>\n",
       "      <td>2.381481</td>\n",
       "    </tr>\n",
       "    <tr>\n",
       "      <th>std</th>\n",
       "      <td>101.207806</td>\n",
       "      <td>4.251696</td>\n",
       "      <td>11.257033</td>\n",
       "      <td>78.034254</td>\n",
       "      <td>1.461305</td>\n",
       "    </tr>\n",
       "    <tr>\n",
       "      <th>min</th>\n",
       "      <td>45.000000</td>\n",
       "      <td>7.000000</td>\n",
       "      <td>1.000000</td>\n",
       "      <td>5.000000</td>\n",
       "      <td>0.500000</td>\n",
       "    </tr>\n",
       "    <tr>\n",
       "      <th>25%</th>\n",
       "      <td>135.000000</td>\n",
       "      <td>16.500000</td>\n",
       "      <td>5.000000</td>\n",
       "      <td>9.000000</td>\n",
       "      <td>1.350000</td>\n",
       "    </tr>\n",
       "    <tr>\n",
       "      <th>50%</th>\n",
       "      <td>180.000000</td>\n",
       "      <td>19.000000</td>\n",
       "      <td>9.000000</td>\n",
       "      <td>9.000000</td>\n",
       "      <td>2.500000</td>\n",
       "    </tr>\n",
       "    <tr>\n",
       "      <th>75%</th>\n",
       "      <td>282.500000</td>\n",
       "      <td>22.000000</td>\n",
       "      <td>22.500000</td>\n",
       "      <td>31.500000</td>\n",
       "      <td>2.600000</td>\n",
       "    </tr>\n",
       "    <tr>\n",
       "      <th>max</th>\n",
       "      <td>420.000000</td>\n",
       "      <td>26.000000</td>\n",
       "      <td>39.000000</td>\n",
       "      <td>367.000000</td>\n",
       "      <td>6.000000</td>\n",
       "    </tr>\n",
       "  </tbody>\n",
       "</table>\n",
       "</div>"
      ],
      "text/plain": [
       "           Energy    Protein        Fat     Calcium       Iron\n",
       "count   27.000000  27.000000  27.000000   27.000000  27.000000\n",
       "mean   207.407407  19.000000  13.481481   43.962963   2.381481\n",
       "std    101.207806   4.251696  11.257033   78.034254   1.461305\n",
       "min     45.000000   7.000000   1.000000    5.000000   0.500000\n",
       "25%    135.000000  16.500000   5.000000    9.000000   1.350000\n",
       "50%    180.000000  19.000000   9.000000    9.000000   2.500000\n",
       "75%    282.500000  22.000000  22.500000   31.500000   2.600000\n",
       "max    420.000000  26.000000  39.000000  367.000000   6.000000"
      ]
     },
     "execution_count": 2,
     "metadata": {},
     "output_type": "execute_result"
    }
   ],
   "source": [
    "# Load the data: food\n",
    "food = pd.read_csv(\"food.csv\",sep=\";\")\n",
    "# print(food)\n",
    "food.describe() # Statistical summary of the data"
   ]
  },
  {
   "cell_type": "code",
   "execution_count": 3,
   "metadata": {},
   "outputs": [
    {
     "data": {
      "text/html": [
       "<div>\n",
       "<style scoped>\n",
       "    .dataframe tbody tr th:only-of-type {\n",
       "        vertical-align: middle;\n",
       "    }\n",
       "\n",
       "    .dataframe tbody tr th {\n",
       "        vertical-align: top;\n",
       "    }\n",
       "\n",
       "    .dataframe thead th {\n",
       "        text-align: right;\n",
       "    }\n",
       "</style>\n",
       "<table border=\"1\" class=\"dataframe\">\n",
       "  <thead>\n",
       "    <tr style=\"text-align: right;\">\n",
       "      <th></th>\n",
       "      <th>Unnamed: 0</th>\n",
       "      <th>x</th>\n",
       "      <th>y</th>\n",
       "    </tr>\n",
       "  </thead>\n",
       "  <tbody>\n",
       "    <tr>\n",
       "      <th>count</th>\n",
       "      <td>75.000000</td>\n",
       "      <td>75.00000</td>\n",
       "      <td>75.000000</td>\n",
       "    </tr>\n",
       "    <tr>\n",
       "      <th>mean</th>\n",
       "      <td>38.000000</td>\n",
       "      <td>54.88000</td>\n",
       "      <td>92.026667</td>\n",
       "    </tr>\n",
       "    <tr>\n",
       "      <th>std</th>\n",
       "      <td>21.794495</td>\n",
       "      <td>30.50253</td>\n",
       "      <td>48.702620</td>\n",
       "    </tr>\n",
       "    <tr>\n",
       "      <th>min</th>\n",
       "      <td>1.000000</td>\n",
       "      <td>4.00000</td>\n",
       "      <td>4.000000</td>\n",
       "    </tr>\n",
       "    <tr>\n",
       "      <th>25%</th>\n",
       "      <td>19.500000</td>\n",
       "      <td>31.50000</td>\n",
       "      <td>56.500000</td>\n",
       "    </tr>\n",
       "    <tr>\n",
       "      <th>50%</th>\n",
       "      <td>38.000000</td>\n",
       "      <td>52.00000</td>\n",
       "      <td>96.000000</td>\n",
       "    </tr>\n",
       "    <tr>\n",
       "      <th>75%</th>\n",
       "      <td>56.500000</td>\n",
       "      <td>76.50000</td>\n",
       "      <td>141.500000</td>\n",
       "    </tr>\n",
       "    <tr>\n",
       "      <th>max</th>\n",
       "      <td>75.000000</td>\n",
       "      <td>117.00000</td>\n",
       "      <td>156.000000</td>\n",
       "    </tr>\n",
       "  </tbody>\n",
       "</table>\n",
       "</div>"
      ],
      "text/plain": [
       "       Unnamed: 0          x           y\n",
       "count   75.000000   75.00000   75.000000\n",
       "mean    38.000000   54.88000   92.026667\n",
       "std     21.794495   30.50253   48.702620\n",
       "min      1.000000    4.00000    4.000000\n",
       "25%     19.500000   31.50000   56.500000\n",
       "50%     38.000000   52.00000   96.000000\n",
       "75%     56.500000   76.50000  141.500000\n",
       "max     75.000000  117.00000  156.000000"
      ]
     },
     "execution_count": 3,
     "metadata": {},
     "output_type": "execute_result"
    }
   ],
   "source": [
    "# Load the data: ruspini\n",
    "ruspini = pd.read_csv(\"ruspini.csv\",sep=\",\")\n",
    "#print(ruspini)\n",
    "ruspini.describe() # Statistical summary of the data"
   ]
  },
  {
   "cell_type": "code",
   "execution_count": 4,
   "metadata": {},
   "outputs": [
    {
     "data": {
      "image/png": "[encoded data removed]",
      "text/plain": [
       "<Figure size 432x288 with 1 Axes>"
      ]
     },
     "metadata": {
      "needs_background": "light"
     },
     "output_type": "display_data"
    },
    {
     "data": {
      "image/png": "[encoded data removed]",
      "text/plain": [
       "<Figure size 432x288 with 1 Axes>"
      ]
     },
     "metadata": {
      "needs_background": "light"
     },
     "output_type": "display_data"
    }
   ],
   "source": [
    "# Boxplot for food\n",
    "plt.figure()\n",
    "plt.title('boxplot food s features')\n",
    "food_box=sns.boxplot(data=food,fliersize=10)   # fliersize is the size used to indicate the outliers\n",
    "plt.show()\n",
    "\n",
    "\n",
    "# Boxplot for ruspini\n",
    "plt.figure()\n",
    "plt.title('boxplots for the first and seconde coordinate')\n",
    "ruspini_box=sns.boxplot(data=ruspini,fliersize=10)\n",
    "plt.show()"
   ]
  },
  {
   "cell_type": "markdown",
   "metadata": {},
   "source": [
    "__Remark__: With this representation, we do not visually extract some clusters. We however remark that, for food data, calcium shows a lot of outliers."
   ]
  },
  {
   "cell_type": "markdown",
   "metadata": {},
   "source": [
    "# Part2: Partitional clustering and quality of a clustering"
   ]
  },
  {
   "cell_type": "markdown",
   "metadata": {},
   "source": [
    "## Question 2"
   ]
  },
  {
   "cell_type": "code",
   "execution_count": 5,
   "metadata": {},
   "outputs": [
    {
     "data": {
      "text/plain": [
       "<matplotlib.collections.PathCollection at 0x1242a1820>"
      ]
     },
     "execution_count": 5,
     "metadata": {},
     "output_type": "execute_result"
    },
    {
     "data": {
      "image/png": "[encoded data removed]",
      "text/plain": [
       "<Figure size 432x288 with 1 Axes>"
      ]
     },
     "metadata": {
      "needs_background": "light"
     },
     "output_type": "display_data"
    }
   ],
   "source": [
    "# Representation of Ruspini dataset\n",
    "plt.title('2D representation of ruspini dataset')\n",
    "plt.scatter(ruspini['x'],ruspini['y'])"
   ]
  },
  {
   "cell_type": "markdown",
   "metadata": {},
   "source": [
    "__Remark__: In this case, we visually observe some clusters. We expect a clustering algorithm to find at least 4 clusters. There is one cluster (left, top) which may be a little difficult to identify."
   ]
  },
  {
   "cell_type": "markdown",
   "metadata": {},
   "source": [
    "## Question 3"
   ]
  },
  {
   "cell_type": "code",
   "execution_count": 6,
   "metadata": {},
   "outputs": [
    {
     "name": "stdout",
     "output_type": "stream",
     "text": [
      "[[ 10.5         20.15        64.95      ]\n",
      " [ 68.          68.93333333  19.4       ]\n",
      " [ 52.          98.17647059 114.88235294]\n",
      " [ 32.          43.91304348 146.04347826]]\n"
     ]
    },
    {
     "data": {
      "text/plain": [
       "<matplotlib.collections.PathCollection at 0x1245fa550>"
      ]
     },
     "execution_count": 6,
     "metadata": {},
     "output_type": "execute_result"
    },
    {
     "data": {
      "image/png": "[encoded data removed]",
      "text/plain": [
       "<Figure size 432x288 with 1 Axes>"
      ]
     },
     "metadata": {
      "needs_background": "light"
     },
     "output_type": "display_data"
    }
   ],
   "source": [
    "# We run a K-means algorithm onto the ruspini dataset, and display the centers\n",
    "kmeans = KMeans(n_clusters=4,n_init=1,init='random').fit(ruspini)\n",
    "centers=kmeans.cluster_centers_\n",
    "print(centers)\n",
    "\n",
    "# We also represent the data in 2D-space with colors corresponding to cluster\n",
    "kmeans.labels_\n",
    "plt.scatter(ruspini['x'], ruspini['y'],c=kmeans.labels_)"
   ]
  },
  {
   "cell_type": "markdown",
   "metadata": {},
   "source": [
    "__Remark__: By launching the K-means algorithm several times, we observe that the clustering is not always the same, and does not always succeed. This is because of the random initialization of the K-means algorithm."
   ]
  },
  {
   "cell_type": "markdown",
   "metadata": {},
   "source": [
    "## Question 4"
   ]
  },
  {
   "cell_type": "code",
   "execution_count": 7,
   "metadata": {},
   "outputs": [
    {
     "name": "stdout",
     "output_type": "stream",
     "text": [
      "[[ 52.          98.17647059 114.88235294]\n",
      " [ 10.5         20.15        64.95      ]\n",
      " [ 32.          43.91304348 146.04347826]\n",
      " [ 68.          68.93333333  19.4       ]]\n"
     ]
    },
    {
     "data": {
      "text/plain": [
       "<matplotlib.collections.PathCollection at 0x124b55160>"
      ]
     },
     "execution_count": 7,
     "metadata": {},
     "output_type": "execute_result"
    },
    {
     "data": {
      "image/png": "[encoded data removed]",
      "text/plain": [
       "<Figure size 432x288 with 1 Axes>"
      ]
     },
     "metadata": {
      "needs_background": "light"
     },
     "output_type": "display_data"
    }
   ],
   "source": [
    "# We choose a larger number of initializations in order to reduce the random effect\n",
    "kmeans_multiple = KMeans(n_clusters=4,n_init=40,init='random').fit(ruspini)\n",
    "centers=kmeans_multiple.cluster_centers_\n",
    "print(centers)\n",
    "\n",
    "# We also represent the data in 2D-space with colors corresponding to cluster\n",
    "kmeans_multiple.labels_\n",
    "plt.scatter(ruspini['x'], ruspini['y'],c=kmeans_multiple.labels_)"
   ]
  },
  {
   "cell_type": "markdown",
   "metadata": {},
   "source": [
    "__Remark__: It is supposed to be more stable with more initializations. Honnestly, when I set n_init=1, I mostly find a good solution."
   ]
  },
  {
   "cell_type": "markdown",
   "metadata": {},
   "source": [
    "## Question 5"
   ]
  },
  {
   "cell_type": "code",
   "execution_count": 14,
   "metadata": {},
   "outputs": [
    {
     "name": "stdout",
     "output_type": "stream",
     "text": [
      "For n = 2 Silhouette_score: 0.5393208837562198\n",
      "For n = 3 Silhouette_score: 0.6570531855325802\n",
      "For n = 4 Silhouette_score: 0.7459402473705687\n",
      "For n = 5 Silhouette_score: 0.7027786230562486\n",
      "For n = 6 Silhouette_score: 0.6186953517303782\n",
      "For n = 7 Silhouette_score: 0.5135079610128102\n",
      "For n = 8 Silhouette_score: 0.520799339470404\n",
      "For n = 9 Silhouette_score: 0.512567849702642\n",
      "For n = 10 Silhouette_score: 0.41967750110923807\n"
     ]
    }
   ],
   "source": [
    "# Compute the silhouette index for each cluster number\n",
    "range_n_clusters = [2, 3, 4, 5, 6,7,8,9,10]\n",
    "for n in range_n_clusters:\n",
    "    clusterer = KMeans(n_clusters=n, n_init=10).fit(ruspini) # Clustering with the given number of clusters\n",
    "    cluster_labels = clusterer.labels_ # Extract the labels\n",
    "    silhouette_avg = silhouette_score(ruspini, cluster_labels) # Corresponding silhouette score\n",
    "   \n",
    "    # Display the results\n",
    "    print(\"For n =\", n, \"Silhouette_score:\", silhouette_avg)"
   ]
  },
  {
   "cell_type": "markdown",
   "metadata": {},
   "source": [
    "__Remark__: We want to maximize the Silhouette score. We see that the maximum is obtained for n=4, which seems reasonable. "
   ]
  },
  {
   "cell_type": "markdown",
   "metadata": {},
   "source": [
    "# Part3: Hierarchical clustering"
   ]
  },
  {
   "cell_type": "raw",
   "metadata": {},
   "source": [
    "## Question 6"
   ]
  },
  {
   "cell_type": "code",
   "execution_count": 15,
   "metadata": {},
   "outputs": [
    {
     "name": "stdout",
     "output_type": "stream",
     "text": [
      "For n = 2 Silhouette_score: 0.5275761268378671\n",
      "For n = 3 Silhouette_score: 0.5583378267953667\n",
      "For n = 4 Silhouette_score: 0.5468275112343609\n",
      "For n = 5 Silhouette_score: 0.49999603015348426\n",
      "For n = 6 Silhouette_score: 0.5288129792857025\n",
      "For n = 7 Silhouette_score: 0.5276307542955673\n",
      "For n = 8 Silhouette_score: 0.5116956926930514\n",
      "For n = 9 Silhouette_score: 0.4928214246881057\n",
      "For n = 10 Silhouette_score: 0.43841379368537275\n"
     ]
    }
   ],
   "source": [
    "# We now apply K-means onto the food dataset. For data visualization of the food dataset, see Question 1.\n",
    "# We first remove the column name, which cannot be clustered.\n",
    "my_food = food.drop(['Name'], axis=1)\n",
    "\n",
    "# We apply K-means algorithm and calculate Silhouette index for a given number of clusters\n",
    "# (Remark: it is a little difficult to visualize, since it is dimension 5)\n",
    "range_n_clusters = [2, 3, 4, 5, 6,7,8,9,10]\n",
    "for n in range_n_clusters:\n",
    "    kmeans_food = KMeans(n_clusters=n, n_init=10).fit(my_food) # Clustering with the given number of clusters\n",
    "    cluster_labels = kmeans_food.labels_ # Extract the labels\n",
    "    silhouette_avg = silhouette_score(my_food, cluster_labels) # Corresponding silhouette score\n",
    "   \n",
    "    # Display the results\n",
    "    print(\"For n =\", n, \"Silhouette_score:\", silhouette_avg)"
   ]
  },
  {
   "cell_type": "markdown",
   "metadata": {},
   "source": [
    "__Remark__: n=3 seems to be the best solution, but the silhouette scores for different number of clusters are close to each other. Probably in this case, K-means does not work well."
   ]
  },
  {
   "cell_type": "markdown",
   "metadata": {},
   "source": [
    "## Question 7"
   ]
  },
  {
   "cell_type": "code",
   "execution_count": 11,
   "metadata": {},
   "outputs": [
    {
     "name": "stdout",
     "output_type": "stream",
     "text": [
      "[[ 0.         10.          0.06973555  2.        ]\n",
      " [11.         12.          0.18939102  2.        ]\n",
      " [ 6.         25.          0.21915945  2.        ]\n",
      " [27.         28.          0.41581508  4.        ]\n",
      " [ 1.          8.          0.4202579   2.        ]\n",
      " [ 3.         30.          0.57241854  5.        ]\n",
      " [ 4.         14.          0.75192779  2.        ]\n",
      " [20.         22.          0.78097139  2.        ]\n",
      " [ 5.         15.          0.79940943  2.        ]\n",
      " [18.         19.          0.80176192  2.        ]\n",
      " [21.         23.          0.94966792  2.        ]\n",
      " [ 9.         32.          0.95589543  6.        ]\n",
      " [13.         31.          1.02636494  3.        ]\n",
      " [16.         17.          1.08097041  2.        ]\n",
      " [29.         35.          1.6079578   4.        ]\n",
      " [26.         33.          1.84265596  3.        ]\n",
      " [34.         36.          1.92586168  4.        ]\n",
      " [ 2.         38.          2.11474542  7.        ]\n",
      " [41.         42.          2.47824624  7.        ]\n",
      " [37.         43.          3.02934776  6.        ]\n",
      " [39.         45.          3.30744584 10.        ]\n",
      " [ 7.         47.          3.811011   11.        ]\n",
      " [46.         48.          5.22788816 17.        ]\n",
      " [24.         49.          6.00531268 18.        ]\n",
      " [40.         50.          7.52691452 20.        ]\n",
      " [44.         51.          9.36731796 27.        ]]\n"
     ]
    }
   ],
   "source": [
    "# We now perform hierarchical clustering. \n",
    "\n",
    "# We standardize the columns of interest\n",
    "food_scaled=pd.DataFrame(scale(my_food),columns=my_food.columns,index=my_food.index)  # scale(food) returns a numpy array, so use pd.Dataframe to reconstruct your dataframe\n",
    "# print(food_scaled)\n",
    "\n",
    "# We apply hierarchical clustering with dissimilarity measure \"ward\"\n",
    "Z = linkage(food_scaled, 'ward') # 'average' is the method used to compute the distance. Metric is \"euclidian\" by default\n",
    "print(Z)"
   ]
  },
  {
   "cell_type": "code",
   "execution_count": 12,
   "metadata": {},
   "outputs": [
    {
     "data": {
      "image/png": "[encoded data removed]",
      "text/plain": [
       "<Figure size 504x504 with 1 Axes>"
      ]
     },
     "metadata": {
      "needs_background": "light"
     },
     "output_type": "display_data"
    }
   ],
   "source": [
    "# We represent the corresponding Dendrogram\n",
    "plt.figure(figsize=(7, 7))\n",
    "plt.title('Hierarchical Clustering Dendrogram')\n",
    "plt.xlabel('sample index')\n",
    "plt.ylabel('distance')\n",
    "dendrogram(\n",
    "    Z = linkage(food_scaled, 'ward')\n",
    ")\n",
    "plt.show()"
   ]
  },
  {
   "cell_type": "markdown",
   "metadata": {},
   "source": [
    "## Question 8"
   ]
  },
  {
   "cell_type": "code",
   "execution_count": 13,
   "metadata": {},
   "outputs": [
    {
     "name": "stdout",
     "output_type": "stream",
     "text": [
      "( single , euclidean , euclidean ) : 0.7749300289356731\n",
      "( single , euclidean , minkowski ) : 0.7749300289356731\n",
      "( single , euclidean , cityblock ) : 0.7319624291223596\n",
      "( single , euclidean , cosine ) : 0.29720215086955576\n",
      "( complete , euclidean , euclidean ) : 0.7136761439194088\n",
      "( complete , euclidean , minkowski ) : 0.7136761439194088\n",
      "( complete , euclidean , cityblock ) : 0.6986503309209111\n",
      "( complete , euclidean , cosine ) : 0.5635440964728377\n",
      "( average , euclidean , euclidean ) : 0.864670129695814\n",
      "( average , euclidean , minkowski ) : 0.864670129695814\n",
      "( average , euclidean , cityblock ) : 0.793164600040733\n",
      "( average , euclidean , cosine ) : 0.46075921503405687\n",
      "( single , hamming , euclidean ) : 0.2771964328633425\n",
      "( single , hamming , minkowski ) : 0.2771964328633425\n",
      "( single , hamming , cityblock ) : 0.2809623363988014\n",
      "( single , hamming , cosine ) : 0.29764837142270345\n",
      "( complete , hamming , euclidean ) : 0.3654986654600873\n",
      "( complete , hamming , minkowski ) : 0.3654986654600873\n",
      "( complete , hamming , cityblock ) : 0.3908763148312714\n",
      "( complete , hamming , cosine ) : 0.40506028201273214\n",
      "( average , hamming , euclidean ) : 0.3956870578405512\n",
      "( average , hamming , minkowski ) : 0.3956870578405512\n",
      "( average , hamming , cityblock ) : 0.4191301196364083\n",
      "( average , hamming , cosine ) : 0.42174740812819395\n",
      "( single , cityblock , euclidean ) : 0.7868659730785457\n",
      "( single , cityblock , minkowski ) : 0.7868659730785457\n",
      "( single , cityblock , cityblock ) : 0.7345358535231589\n",
      "( single , cityblock , cosine ) : 0.28094953972559483\n",
      "( complete , cityblock , euclidean ) : 0.5868357652949966\n",
      "( complete , cityblock , minkowski ) : 0.5868357652949966\n",
      "( complete , cityblock , cityblock ) : 0.6135202176692842\n",
      "( complete , cityblock , cosine ) : 0.5696289105781162\n",
      "( average , cityblock , euclidean ) : 0.8367966004491689\n",
      "( average , cityblock , minkowski ) : 0.8367966004491689\n",
      "( average , cityblock , cityblock ) : 0.8225780441192991\n",
      "( average , cityblock , cosine ) : 0.5781837629049443\n",
      "( single , cosine , euclidean ) : 0.5934256020881395\n",
      "( single , cosine , minkowski ) : 0.5934256020881395\n",
      "( single , cosine , cityblock ) : 0.6418491377621957\n",
      "( single , cosine , cosine ) : 0.7174261741365753\n",
      "( complete , cosine , euclidean ) : 0.5623290290278498\n",
      "( complete , cosine , minkowski ) : 0.5623290290278498\n",
      "( complete , cosine , cityblock ) : 0.5508847326672107\n",
      "( complete , cosine , cosine ) : 0.7846691768354758\n",
      "( average , cosine , euclidean ) : 0.5810574778727803\n",
      "( average , cosine , minkowski ) : 0.5810574778727803\n",
      "( average , cosine , cityblock ) : 0.5975095189201944\n",
      "( average , cosine , cosine ) : 0.8162289131530784\n",
      "the best cophenet index is about : 0.864670129695814 which corresponds to the triple: (metric= euclidean ,method= average and pdist= euclidean )\n"
     ]
    }
   ],
   "source": [
    "metrics=['euclidean','hamming', 'cityblock' , 'cosine'] # metrics used for linkage \n",
    "methods=['single','complete','average'] # methods used for linkage\n",
    "pdists=['euclidean','minkowski','cityblock','cosine']  # metrics used for pdist()\n",
    "max_val=0\n",
    "best_metric=None\n",
    "best_method=None\n",
    "best_p_dist=None\n",
    "\n",
    "for metric1 in metrics:\n",
    "    for method1 in methods:\n",
    "        for pdist1 in pdists:\n",
    "            Z=linkage(food_scaled,method1,metric=metric1)\n",
    "            c, coph_dists = cophenet(Z, pdist(food_scaled,pdist1))\n",
    "            if (c>max_val):\n",
    "                max_val=c\n",
    "                best_metric=metric1\n",
    "                best_method=method1\n",
    "                best_p_dist=pdist1\n",
    "            else:\n",
    "                max_val=max_val\n",
    "            print('(',method1,',',metric1,',',pdist1,') :',c)\n",
    "print('the best cophenet index is about :',max_val,'which corresponds to the triple: (metric=',best_metric,',method=',best_method,'and pdist=',best_p_dist,')')"
   ]
  },
  {
   "cell_type": "markdown",
   "metadata": {},
   "source": [
    "__Remark__: Here we used the cophenet index. It would be interesting to also look at the silhouette index. This would allow for comparison with K-means results."
   ]
  },
  {
   "cell_type": "code",
   "execution_count": null,
   "metadata": {},
   "outputs": [],
   "source": []
  }
 ],
 "metadata": {
  "celltoolbar": "Format de la Cellule Texte Brut",
  "kernelspec": {
   "display_name": "Python 3",
   "language": "python",
   "name": "python3"
  },
  "language_info": {
   "codemirror_mode": {
    "name": "ipython",
    "version": 3
   },
   "file_extension": ".py",
   "mimetype": "text/x-python",
   "name": "python",
   "nbconvert_exporter": "python",
   "pygments_lexer": "ipython3",
   "version": "3.8.3"
  },
  "latex_envs": {
   "LaTeX_envs_menu_present": true,
   "autoclose": false,
   "autocomplete": false,
   "bibliofile": "biblio.bib",
   "cite_by": "apalike",
   "current_citInitial": 1,
   "eqLabelWithNumbers": true,
   "eqNumInitial": 1,
   "hotkeys": {
    "equation": "Ctrl-E",
    "itemize": "Ctrl-I"
   },
   "labels_anchors": false,
   "latex_user_defs": false,
   "report_style_numbering": false,
   "user_envs_cfg": false
  },
  "toc": {
   "base_numbering": 1,
   "nav_menu": {},
   "number_sections": true,
   "sideBar": true,
   "skip_h1_title": false,
   "title_cell": "Table of Contents",
   "title_sidebar": "Contents",
   "toc_cell": false,
   "toc_position": {},
   "toc_section_display": true,
   "toc_window_display": false
  }
 },
 "nbformat": 4,
 "nbformat_minor": 2
}
