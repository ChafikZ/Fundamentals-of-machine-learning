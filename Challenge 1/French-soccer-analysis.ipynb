{
 "cells": [
  {
   "cell_type": "code",
   "execution_count": 24,
   "metadata": {},
   "outputs": [],
   "source": [
    "from collections import Counter\n",
    "import collections\n",
    "import numpy as np\n",
    "import pandas as pd\n",
    "import seaborn as sns\n",
    "import matplotlib.pyplot as plt"
   ]
  },
  {
   "cell_type": "code",
   "execution_count": 3,
   "metadata": {},
   "outputs": [],
   "source": [
    "data = pd.read_csv('footdata.csv')"
   ]
  },
  {
   "cell_type": "code",
   "execution_count": 4,
   "metadata": {},
   "outputs": [
    {
     "data": {
      "text/html": [
       "<div>\n",
       "<style scoped>\n",
       "    .dataframe tbody tr th:only-of-type {\n",
       "        vertical-align: middle;\n",
       "    }\n",
       "\n",
       "    .dataframe tbody tr th {\n",
       "        vertical-align: top;\n",
       "    }\n",
       "\n",
       "    .dataframe thead th {\n",
       "        text-align: right;\n",
       "    }\n",
       "</style>\n",
       "<table border=\"1\" class=\"dataframe\">\n",
       "  <thead>\n",
       "    <tr style=\"text-align: right;\">\n",
       "      <th></th>\n",
       "      <th>Date</th>\n",
       "      <th>HomeTeam</th>\n",
       "      <th>AwayTeam</th>\n",
       "      <th>FTHG</th>\n",
       "      <th>FTAG</th>\n",
       "      <th>FTR</th>\n",
       "      <th>HTHG</th>\n",
       "      <th>HTAG</th>\n",
       "      <th>HTR</th>\n",
       "      <th>HS</th>\n",
       "      <th>...</th>\n",
       "      <th>AF</th>\n",
       "      <th>HC</th>\n",
       "      <th>AC</th>\n",
       "      <th>HY</th>\n",
       "      <th>AY</th>\n",
       "      <th>HR</th>\n",
       "      <th>AR</th>\n",
       "      <th>B365H</th>\n",
       "      <th>B365D</th>\n",
       "      <th>B365A</th>\n",
       "    </tr>\n",
       "  </thead>\n",
       "  <tbody>\n",
       "    <tr>\n",
       "      <th>0</th>\n",
       "      <td>04/08/07</td>\n",
       "      <td>Bordeaux</td>\n",
       "      <td>Lens</td>\n",
       "      <td>1</td>\n",
       "      <td>0</td>\n",
       "      <td>H</td>\n",
       "      <td>1</td>\n",
       "      <td>0</td>\n",
       "      <td>H</td>\n",
       "      <td>13</td>\n",
       "      <td>...</td>\n",
       "      <td>19</td>\n",
       "      <td>4</td>\n",
       "      <td>4</td>\n",
       "      <td>3</td>\n",
       "      <td>2</td>\n",
       "      <td>0</td>\n",
       "      <td>1</td>\n",
       "      <td>2.20</td>\n",
       "      <td>2.87</td>\n",
       "      <td>3.6</td>\n",
       "    </tr>\n",
       "    <tr>\n",
       "      <th>1</th>\n",
       "      <td>04/08/07</td>\n",
       "      <td>Caen</td>\n",
       "      <td>Nice</td>\n",
       "      <td>1</td>\n",
       "      <td>0</td>\n",
       "      <td>H</td>\n",
       "      <td>0</td>\n",
       "      <td>0</td>\n",
       "      <td>D</td>\n",
       "      <td>16</td>\n",
       "      <td>...</td>\n",
       "      <td>15</td>\n",
       "      <td>2</td>\n",
       "      <td>3</td>\n",
       "      <td>1</td>\n",
       "      <td>1</td>\n",
       "      <td>0</td>\n",
       "      <td>0</td>\n",
       "      <td>2.40</td>\n",
       "      <td>2.75</td>\n",
       "      <td>3.0</td>\n",
       "    </tr>\n",
       "    <tr>\n",
       "      <th>2</th>\n",
       "      <td>04/08/07</td>\n",
       "      <td>Lille</td>\n",
       "      <td>Lorient</td>\n",
       "      <td>0</td>\n",
       "      <td>0</td>\n",
       "      <td>D</td>\n",
       "      <td>0</td>\n",
       "      <td>0</td>\n",
       "      <td>D</td>\n",
       "      <td>6</td>\n",
       "      <td>...</td>\n",
       "      <td>19</td>\n",
       "      <td>2</td>\n",
       "      <td>2</td>\n",
       "      <td>1</td>\n",
       "      <td>1</td>\n",
       "      <td>0</td>\n",
       "      <td>0</td>\n",
       "      <td>1.72</td>\n",
       "      <td>3.00</td>\n",
       "      <td>5.0</td>\n",
       "    </tr>\n",
       "    <tr>\n",
       "      <th>3</th>\n",
       "      <td>04/08/07</td>\n",
       "      <td>Monaco</td>\n",
       "      <td>St Etienne</td>\n",
       "      <td>1</td>\n",
       "      <td>1</td>\n",
       "      <td>D</td>\n",
       "      <td>1</td>\n",
       "      <td>0</td>\n",
       "      <td>H</td>\n",
       "      <td>16</td>\n",
       "      <td>...</td>\n",
       "      <td>3</td>\n",
       "      <td>5</td>\n",
       "      <td>6</td>\n",
       "      <td>3</td>\n",
       "      <td>3</td>\n",
       "      <td>0</td>\n",
       "      <td>0</td>\n",
       "      <td>1.90</td>\n",
       "      <td>2.90</td>\n",
       "      <td>4.0</td>\n",
       "    </tr>\n",
       "    <tr>\n",
       "      <th>4</th>\n",
       "      <td>04/08/07</td>\n",
       "      <td>Paris SG</td>\n",
       "      <td>Sochaux</td>\n",
       "      <td>0</td>\n",
       "      <td>0</td>\n",
       "      <td>D</td>\n",
       "      <td>0</td>\n",
       "      <td>0</td>\n",
       "      <td>D</td>\n",
       "      <td>11</td>\n",
       "      <td>...</td>\n",
       "      <td>17</td>\n",
       "      <td>5</td>\n",
       "      <td>9</td>\n",
       "      <td>2</td>\n",
       "      <td>1</td>\n",
       "      <td>0</td>\n",
       "      <td>0</td>\n",
       "      <td>1.72</td>\n",
       "      <td>3.40</td>\n",
       "      <td>5.0</td>\n",
       "    </tr>\n",
       "  </tbody>\n",
       "</table>\n",
       "<p>5 rows × 24 columns</p>\n",
       "</div>"
      ],
      "text/plain": [
       "       Date  HomeTeam    AwayTeam  FTHG  FTAG FTR  HTHG  HTAG HTR  HS  ...  \\\n",
       "0  04/08/07  Bordeaux        Lens     1     0   H     1     0   H  13  ...   \n",
       "1  04/08/07      Caen        Nice     1     0   H     0     0   D  16  ...   \n",
       "2  04/08/07     Lille     Lorient     0     0   D     0     0   D   6  ...   \n",
       "3  04/08/07    Monaco  St Etienne     1     1   D     1     0   H  16  ...   \n",
       "4  04/08/07  Paris SG     Sochaux     0     0   D     0     0   D  11  ...   \n",
       "\n",
       "   AF  HC  AC  HY  AY  HR  AR  B365H  B365D  B365A  \n",
       "0  19   4   4   3   2   0   1   2.20   2.87    3.6  \n",
       "1  15   2   3   1   1   0   0   2.40   2.75    3.0  \n",
       "2  19   2   2   1   1   0   0   1.72   3.00    5.0  \n",
       "3   3   5   6   3   3   0   0   1.90   2.90    4.0  \n",
       "4  17   5   9   2   1   0   0   1.72   3.40    5.0  \n",
       "\n",
       "[5 rows x 24 columns]"
      ]
     },
     "execution_count": 4,
     "metadata": {},
     "output_type": "execute_result"
    }
   ],
   "source": [
    "data.head()"
   ]
  },
  {
   "cell_type": "markdown",
   "metadata": {},
   "source": [
    "Ce jeu de données contient l’ensemble des matches du championnat de France de football 2007-2008. Composé de 20 équipes s’affrontant chacune lors de rencontres allers et retours, le tableau de données contient les résultats de 380 matches. Le tableau est composé des colonnes suivantes :\n",
    "\n",
    "+ Date : Date du match\n",
    "+ AST : Tirs cadrés E2\n",
    "+ HomeTeam : Equipe à domicile (E1)\n",
    "+ HF : Fautes commises par E1\n",
    "+ AwayTeam : Equipe à l’extérieur (E2)\n",
    "+ AF : Fautes commises par E2\n",
    "+ FTHG : Buts E1\n",
    "+ HC : Corners obtenus par E1\n",
    "+ FTAG : Buts E2\n",
    "+ AC : Corners obtenus par E2\n",
    "+ FTR : Résultat\n",
    "+ HY : Cartons jaunes E1\n",
    "+ HTHG : Buts E1 à la mi-temps\n",
    "+ AY : Cartons jaunes E2\n",
    "+ HTAG : Buts E2 à la mi-temps\n",
    "+ HR : Cartons rouges E1\n",
    "+ HTR : Résultat à la mi-temps\n",
    "+ AR : Cartons rouges E2\n",
    "+ HS : Tirs E1\n",
    "+ B365H : Côte sportive victoire E1\n",
    "+ AS : Tirs E2\n",
    "+ B365D : Côte sportive match nul\n",
    "+ HST : Tirs cadrés E1\n",
    "+ B365A : Côte sportive victoire E2"
   ]
  },
  {
   "cell_type": "code",
   "execution_count": 5,
   "metadata": {},
   "outputs": [
    {
     "data": {
      "text/plain": [
       "Counter({'H': 167, 'D': 116, 'A': 97})"
      ]
     },
     "execution_count": 5,
     "metadata": {},
     "output_type": "execute_result"
    }
   ],
   "source": [
    "win_counter = Counter(data['FTR'])\n",
    "win_counter"
   ]
  },
  {
   "cell_type": "markdown",
   "metadata": {},
   "source": [
    "Il y'a eu 167 victoires à domicile, 116 matchs nuls et 97 victoire en exterieur"
   ]
  },
  {
   "cell_type": "code",
   "execution_count": 6,
   "metadata": {},
   "outputs": [],
   "source": [
    "hometeams_win = data['HomeTeam'][data['FTR']=='H'] #toutes les fois ou l'équipe a domicile gagne\n",
    "awayteams_win = data['AwayTeam'][data['FTR']=='A'] #toutes les fois ou l'équipe a l'exterieur gagne"
   ]
  },
  {
   "cell_type": "code",
   "execution_count": 7,
   "metadata": {},
   "outputs": [],
   "source": [
    "home_win_counter = Counter(hometeams_win)\n",
    "away_win_counter = Counter(awayteams_win)\n",
    "total_win_counter = home_win_counter + away_win_counter"
   ]
  },
  {
   "cell_type": "code",
   "execution_count": 26,
   "metadata": {
    "scrolled": true
   },
   "outputs": [],
   "source": [
    "sorted_dict = collections.OrderedDict((sorted(total_win_counter.items(), key=lambda t: t[1])))"
   ]
  },
  {
   "cell_type": "code",
   "execution_count": 27,
   "metadata": {},
   "outputs": [
    {
     "data": {
      "text/plain": [
       "OrderedDict([('Metz', 5),\n",
       "             ('Toulouse', 9),\n",
       "             ('Strasbourg', 9),\n",
       "             ('Lens', 9),\n",
       "             ('Sochaux', 10),\n",
       "             ('Paris SG', 10),\n",
       "             ('Valenciennes', 12),\n",
       "             ('Lorient', 12),\n",
       "             ('Auxerre', 12),\n",
       "             ('Caen', 13),\n",
       "             ('Nice', 13),\n",
       "             ('Monaco', 13),\n",
       "             ('Lille', 13),\n",
       "             ('Le Mans', 14),\n",
       "             ('Nancy', 15),\n",
       "             ('St Etienne', 16),\n",
       "             ('Rennes', 16),\n",
       "             ('Marseille', 17),\n",
       "             ('Bordeaux', 22),\n",
       "             ('Lyon', 24)])"
      ]
     },
     "execution_count": 27,
     "metadata": {},
     "output_type": "execute_result"
    }
   ],
   "source": [
    "sorted_dict"
   ]
  },
  {
   "cell_type": "markdown",
   "metadata": {},
   "source": [
    "C'est Lyon qui totalise le plus de victoires avec 24 victoires, metz a le moins de victoires avec 5 victoires seulement"
   ]
  },
  {
   "cell_type": "code",
   "execution_count": null,
   "metadata": {},
   "outputs": [],
   "source": [
    "plt.figure(figsize=(10, 5))\n",
    "ax = sns.countplot(hometeams_win, order=hometeams_win.value_counts().index)\n",
    "plt.setp(ax.get_xticklabels(), rotation=90)[1]\n",
    "plt.show()"
   ]
  },
  {
   "cell_type": "markdown",
   "metadata": {},
   "source": [
    "C'est Lyon qui a le plus de victoires à domicile"
   ]
  },
  {
   "cell_type": "code",
   "execution_count": null,
   "metadata": {},
   "outputs": [],
   "source": [
    "plt.figure(figsize=(10, 5))\n",
    "ax = sns.countplot(awayteams_win, order=awayteams_win.value_counts().index)\n",
    "plt.setp(ax.get_xticklabels(), rotation=90)[1]\n",
    "plt.show()"
   ]
  },
  {
   "cell_type": "markdown",
   "metadata": {},
   "source": [
    "C'est également Lyon qui a le plus de victoires en extérieur"
   ]
  },
  {
   "cell_type": "code",
   "execution_count": null,
   "metadata": {},
   "outputs": [],
   "source": [
    "hometeams_loss = data['HomeTeam'][data['FTR']=='A'] #toutes les fois ou l'équipe a domicile perd\n",
    "awayteams_loss = data['AwayTeam'][data['FTR']=='H'] #toutes les fois ou l'équipe a l'exterieur perd"
   ]
  },
  {
   "cell_type": "code",
   "execution_count": null,
   "metadata": {},
   "outputs": [],
   "source": [
    "home_loss_counter = Counter(hometeams_loss)\n",
    "away_loss_counter = Counter(awayteams_loss)\n",
    "total_loss_counter = home_loss_counter + away_loss_counter"
   ]
  },
  {
   "cell_type": "code",
   "execution_count": null,
   "metadata": {},
   "outputs": [],
   "source": [
    "total_loss_counter"
   ]
  },
  {
   "cell_type": "markdown",
   "metadata": {},
   "source": [
    "l'équipe qui perd le plus est Metz avec 24 défaites"
   ]
  },
  {
   "cell_type": "code",
   "execution_count": null,
   "metadata": {},
   "outputs": [],
   "source": [
    "#defaites a domicile\n",
    "plt.figure(figsize=(10, 5))\n",
    "ax = sns.countplot(hometeams_loss, order=hometeams_loss.value_counts().index)\n",
    "plt.setp(ax.get_xticklabels(), rotation=90)[1]\n",
    "plt.show()"
   ]
  },
  {
   "cell_type": "markdown",
   "metadata": {},
   "source": [
    "L'équipe qui a le plus de défaites à domicile est Metz"
   ]
  },
  {
   "cell_type": "code",
   "execution_count": null,
   "metadata": {},
   "outputs": [],
   "source": [
    "#defaites en extérieur\n",
    "plt.figure(figsize=(10, 5))\n",
    "ax = sns.countplot(awayteams_loss, order=awayteams_loss.value_counts().index)\n",
    "plt.setp(ax.get_xticklabels(), rotation=90)[1]\n",
    "plt.show()"
   ]
  },
  {
   "cell_type": "markdown",
   "metadata": {},
   "source": [
    "L'équipe qui a le plus de défaites en extérieur est Lens (cette équipe a cependant peu de défaites à domicile)"
   ]
  },
  {
   "cell_type": "code",
   "execution_count": null,
   "metadata": {},
   "outputs": [],
   "source": [
    "home_shots = data[['HomeTeam', 'FTHG', 'HS', 'HST']] #buts, tirs, tirs cadrés E1\n",
    "away_shots = data[['AwayTeam', 'HTAG', 'AS', 'AST']] #buts, tirs, tirs cadrés E2\n",
    "home_shots.columns = ['team', 'buts', 'tirs', 'tirs cadrés']\n",
    "away_shots.columns = ['team', 'buts', 'tirs', 'tirs cadrés']"
   ]
  },
  {
   "cell_type": "code",
   "execution_count": null,
   "metadata": {},
   "outputs": [],
   "source": [
    "total_shots = pd.concat([home_shots, away_shots]) #on combine les deux dataframes pour avoir les stats totals domicile et ext\n",
    "total_shots = total_shots.groupby('team').sum() #nb de buts, tirs et tirs cadrés pour chaque équipe\n",
    "\n",
    "total_shots"
   ]
  },
  {
   "cell_type": "markdown",
   "metadata": {},
   "source": [
    "l'équipe qui a le plus de buts est Lyon, l'équipe qui a le plus de tirs est St Etienne et l'équipe qui a le plus de tirs cadrés est Lyon"
   ]
  }
 ],
 "metadata": {
  "kernelspec": {
   "display_name": "Python 3",
   "language": "python",
   "name": "python3"
  },
  "language_info": {
   "codemirror_mode": {
    "name": "ipython",
    "version": 3
   },
   "file_extension": ".py",
   "mimetype": "text/x-python",
   "name": "python",
   "nbconvert_exporter": "python",
   "pygments_lexer": "ipython3",
   "version": "3.8.3"
  }
 },
 "nbformat": 4,
 "nbformat_minor": 2
}
